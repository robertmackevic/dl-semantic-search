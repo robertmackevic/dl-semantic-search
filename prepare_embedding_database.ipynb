{
 "cells": [
  {
   "cell_type": "code",
   "id": "initial_id",
   "metadata": {
    "collapsed": true
   },
   "source": [
    "import json\n",
    "from typing import List\n",
    "\n",
    "import pandas as pd\n",
    "import torch\n",
    "\n",
    "from src.embedding import EmbeddingModel\n",
    "from src.engine import SearchEngine\n",
    "\n",
    "print(\"Pytorch version:\", torch.__version__)\n",
    "print(\"CUDA enabled:\", torch.cuda.is_available())\n",
    "\n",
    "if torch.cuda.is_available():\n",
    "    print(\"Device:\", torch.cuda.get_device_name())"
   ],
   "outputs": [],
   "execution_count": null
  },
  {
   "metadata": {},
   "cell_type": "code",
   "source": [
    "search_engine = SearchEngine()\n",
    "embedding_model: EmbeddingModel = search_engine.embedding_model\n",
    "embedding_model.model"
   ],
   "id": "f0b3ada79ed7d448",
   "outputs": [],
   "execution_count": null
  },
  {
   "metadata": {},
   "cell_type": "code",
   "source": [
    "# Download data from https://data.world/liz-friedman/arxiv-stem-scholarly-articles\n",
    "with open(\"arxiv-metadata-oai-snapshot-2020-08-14.json\", \"r\", encoding=\"utf-8\") as file:\n",
    "    data = [json.loads(line) for line in file]\n",
    "\n",
    "dataframe = pd.DataFrame(data)\n",
    "dataframe.drop(\n",
    "    columns=[\n",
    "        \"id\", \"submitter\", \"comments\", \"report-no\", \"categories\",\n",
    "        \"license\", \"versions\", \"authors_parsed\", \"doi\",\n",
    "    ],\n",
    "    inplace=True\n",
    ")\n",
    "dataframe.dropna(inplace=True)\n",
    "\n",
    "dataframe[\"update_date\"] = pd.to_datetime(dataframe[\"update_date\"])\n",
    "dataframe.sort_values(by=\"update_date\", ascending=False, inplace=True)\n",
    "\n",
    "\n",
    "def clean_up_text(text: str) -> str:\n",
    "    text = text.replace(\"\\t\", \" \").replace(\"\\n\", \" \")\n",
    "    text = \" \".join(text.split()).strip()\n",
    "    return text\n",
    "\n",
    "\n",
    "dataframe = dataframe[:5000]\n",
    "print(\"Number of entries:\", len(dataframe))\n",
    "dataframe[\"abstract\"] = dataframe[\"abstract\"].apply(clean_up_text)\n",
    "dataframe[\"title\"] = dataframe[\"title\"].apply(clean_up_text)\n",
    "dataframe.head()"
   ],
   "id": "fec50fdd54519d85",
   "outputs": [],
   "execution_count": null
  },
  {
   "metadata": {},
   "cell_type": "code",
   "source": [
    "def create_embeddings(row: pd.Series) -> List[float]:\n",
    "    text = row[\"title\"] + \". \" + row[\"abstract\"]\n",
    "    return embedding_model.get_embedding(text)\n",
    "\n",
    "\n",
    "dataframe[\"embedding\"] = dataframe.apply(create_embeddings, axis=1)\n",
    "dataframe.head()"
   ],
   "id": "746bd62d06083c30",
   "outputs": [],
   "execution_count": null
  },
  {
   "metadata": {},
   "cell_type": "code",
   "source": "search_engine.fill_embedding_database(dataframe)",
   "id": "cfa226fd6b2436f0",
   "outputs": [],
   "execution_count": null
  }
 ],
 "metadata": {
  "kernelspec": {
   "display_name": "Python 3",
   "language": "python",
   "name": "python3"
  },
  "language_info": {
   "codemirror_mode": {
    "name": "ipython",
    "version": 2
   },
   "file_extension": ".py",
   "mimetype": "text/x-python",
   "name": "python",
   "nbconvert_exporter": "python",
   "pygments_lexer": "ipython2",
   "version": "2.7.6"
  }
 },
 "nbformat": 4,
 "nbformat_minor": 5
}
